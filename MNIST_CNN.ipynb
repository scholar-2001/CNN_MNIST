{
 "cells": [
  {
   "cell_type": "code",
   "execution_count": 1,
   "id": "b08dd360",
   "metadata": {},
   "outputs": [],
   "source": [
    "import torch\n",
    "from torch import nn,optim\n",
    "import torch.nn.functional as F\n",
    "from torchvision import datasets, transforms, models\n",
    "from torchvision.datasets import MNIST"
   ]
  },
  {
   "cell_type": "code",
   "execution_count": 2,
   "id": "66554a3a",
   "metadata": {},
   "outputs": [],
   "source": [
    "class cnn_classify(nn.Module):                         \n",
    "    def __init__(self):                                       \n",
    "        super(cnn_classify, self).__init__()\n",
    "        \n",
    "        self.features = nn.Sequential(nn.Conv2d(1, 16, 3),      \n",
    "                                      nn.ReLU(),                \n",
    "                                      nn.MaxPool2d(2, 2),       \n",
    "                                      nn.Conv2d(16, 10, 3),     \n",
    "                                      nn.ReLU(),                \n",
    "                                      nn.MaxPool2d(2))          \n",
    "        \n",
    "        self.classifier = nn.Sequential(nn.Linear(250, 128), \n",
    "                                        nn.ReLU(),\n",
    "                                        nn.Dropout(p=0.4),\n",
    "                                        nn.Linear(128, 84), \n",
    "                                        nn.ReLU(),\n",
    "                                        nn.Dropout(p=0.4),\n",
    "                                        nn.Linear(84, 10),\n",
    "                                        nn.LogSoftmax(dim=1))\n",
    "                                              \n",
    "        \n",
    "    def forward(self, image, prints=False):                     \n",
    "        if prints: print('Original Image shape:', image.shape)\n",
    "        \n",
    "        \n",
    "        image = self.features(image)\n",
    "        if prints: print('Convol Image shape:', image.shape)\n",
    "        \n",
    "        \n",
    "        image = image.view(-1, 250)\n",
    "        if prints: print('Vectorized Image shape:', image.shape)\n",
    "        \n",
    "        \n",
    "        out = self.classifier(image)\n",
    "        if prints: print('Out:', out)\n",
    "            \n",
    "        \n",
    "        return out"
   ]
  },
  {
   "cell_type": "code",
   "execution_count": 3,
   "id": "96c9a45a",
   "metadata": {},
   "outputs": [
    {
     "data": {
      "text/plain": [
       "cnn_classify(\n",
       "  (features): Sequential(\n",
       "    (0): Conv2d(1, 16, kernel_size=(3, 3), stride=(1, 1))\n",
       "    (1): ReLU()\n",
       "    (2): MaxPool2d(kernel_size=2, stride=2, padding=0, dilation=1, ceil_mode=False)\n",
       "    (3): Conv2d(16, 10, kernel_size=(3, 3), stride=(1, 1))\n",
       "    (4): ReLU()\n",
       "    (5): MaxPool2d(kernel_size=2, stride=2, padding=0, dilation=1, ceil_mode=False)\n",
       "  )\n",
       "  (classifier): Sequential(\n",
       "    (0): Linear(in_features=250, out_features=128, bias=True)\n",
       "    (1): ReLU()\n",
       "    (2): Dropout(p=0.4, inplace=False)\n",
       "    (3): Linear(in_features=128, out_features=84, bias=True)\n",
       "    (4): ReLU()\n",
       "    (5): Dropout(p=0.4, inplace=False)\n",
       "    (6): Linear(in_features=84, out_features=10, bias=True)\n",
       "    (7): LogSoftmax(dim=1)\n",
       "  )\n",
       ")"
      ]
     },
     "execution_count": 3,
     "metadata": {},
     "output_type": "execute_result"
    }
   ],
   "source": [
    "model = cnn_classify()\n",
    "model"
   ]
  },
  {
   "cell_type": "code",
   "execution_count": 4,
   "id": "603a1cd6",
   "metadata": {},
   "outputs": [],
   "source": [
    "mnist_train = MNIST('data', train=True, download=True, transform=transforms.ToTensor())\n",
    "mnist_valid = MNIST('data', train=False, download=True, transform=transforms.ToTensor())\n",
    "trainloader = torch.utils.data.DataLoader(mnist_train, batch_size=64, shuffle=True)\n",
    "validloader = torch.utils.data.DataLoader(mnist_valid, batch_size=64)\n",
    "\n"
   ]
  },
  {
   "cell_type": "code",
   "execution_count": 5,
   "id": "f34fcf6c",
   "metadata": {},
   "outputs": [],
   "source": [
    "device = torch.device(\"cuda\" if torch.cuda.is_available()  else \"cpu\")\n",
    "criterion = nn.NLLLoss()\n",
    "\n",
    "optimizer = optim.Adam(model.classifier.parameters(), lr=0.003)"
   ]
  },
  {
   "cell_type": "code",
   "execution_count": 6,
   "id": "f4ec682e",
   "metadata": {},
   "outputs": [
    {
     "name": "stdout",
     "output_type": "stream",
     "text": [
      "Epoch 1/3.. Train loss: 1.666.. Validation loss: 0.784.. Validation accuracy: 0.757\n",
      "Epoch 1/3.. Train loss: 0.805.. Validation loss: 0.458.. Validation accuracy: 0.864\n",
      "Epoch 1/3.. Train loss: 0.601.. Validation loss: 0.393.. Validation accuracy: 0.884\n",
      "Epoch 1/3.. Train loss: 0.541.. Validation loss: 0.299.. Validation accuracy: 0.910\n",
      "Epoch 1/3.. Train loss: 0.425.. Validation loss: 0.254.. Validation accuracy: 0.919\n",
      "Epoch 1/3.. Train loss: 0.419.. Validation loss: 0.232.. Validation accuracy: 0.928\n",
      "Epoch 1/3.. Train loss: 0.349.. Validation loss: 0.228.. Validation accuracy: 0.928\n",
      "Epoch 1/3.. Train loss: 0.378.. Validation loss: 0.238.. Validation accuracy: 0.927\n",
      "Epoch 1/3.. Train loss: 0.343.. Validation loss: 0.199.. Validation accuracy: 0.936\n",
      "Epoch 2/3.. Train loss: 0.329.. Validation loss: 0.199.. Validation accuracy: 0.937\n",
      "Epoch 2/3.. Train loss: 0.307.. Validation loss: 0.187.. Validation accuracy: 0.940\n",
      "Epoch 2/3.. Train loss: 0.329.. Validation loss: 0.192.. Validation accuracy: 0.939\n",
      "Epoch 2/3.. Train loss: 0.299.. Validation loss: 0.186.. Validation accuracy: 0.942\n",
      "Epoch 2/3.. Train loss: 0.294.. Validation loss: 0.171.. Validation accuracy: 0.944\n",
      "Epoch 2/3.. Train loss: 0.292.. Validation loss: 0.174.. Validation accuracy: 0.944\n",
      "Epoch 2/3.. Train loss: 0.286.. Validation loss: 0.166.. Validation accuracy: 0.946\n",
      "Epoch 2/3.. Train loss: 0.295.. Validation loss: 0.174.. Validation accuracy: 0.944\n",
      "Epoch 2/3.. Train loss: 0.272.. Validation loss: 0.153.. Validation accuracy: 0.952\n",
      "Epoch 3/3.. Train loss: 0.268.. Validation loss: 0.175.. Validation accuracy: 0.946\n",
      "Epoch 3/3.. Train loss: 0.271.. Validation loss: 0.161.. Validation accuracy: 0.947\n",
      "Epoch 3/3.. Train loss: 0.271.. Validation loss: 0.152.. Validation accuracy: 0.951\n",
      "Epoch 3/3.. Train loss: 0.279.. Validation loss: 0.156.. Validation accuracy: 0.949\n",
      "Epoch 3/3.. Train loss: 0.265.. Validation loss: 0.152.. Validation accuracy: 0.952\n",
      "Epoch 3/3.. Train loss: 0.256.. Validation loss: 0.156.. Validation accuracy: 0.952\n",
      "Epoch 3/3.. Train loss: 0.262.. Validation loss: 0.147.. Validation accuracy: 0.955\n",
      "Epoch 3/3.. Train loss: 0.259.. Validation loss: 0.156.. Validation accuracy: 0.950\n",
      "Epoch 3/3.. Train loss: 0.243.. Validation loss: 0.140.. Validation accuracy: 0.955\n",
      "Epoch 3/3.. Train loss: 0.248.. Validation loss: 0.146.. Validation accuracy: 0.952\n"
     ]
    }
   ],
   "source": [
    "model = model.to(device)\n",
    "epochs = 3\n",
    "steps = 0\n",
    "running_loss = 0\n",
    "print_every = 100\n",
    "for epoch in range(epochs):\n",
    "    for inputs, labels in iter(trainloader):\n",
    "        steps += 1\n",
    "        inputs, labels = inputs.to(device), labels.to(device)\n",
    "        optimizer.zero_grad()\n",
    "\n",
    "        logps = model.forward(inputs)\n",
    "        loss = criterion(logps, labels)\n",
    "        loss.backward()\n",
    "        optimizer.step()\n",
    "\n",
    "        running_loss += loss.item()\n",
    "\n",
    "        if steps % print_every == 0:\n",
    "            test_loss = 0\n",
    "            accuracy = 0\n",
    "            model.eval()\n",
    "            with torch.no_grad():\n",
    "                for inputs, labels in validloader:\n",
    "                    inputs, labels = inputs.to(device), labels.to(device)\n",
    "                    logps = model.forward(inputs)\n",
    "                    batch_loss = criterion(logps, labels)\n",
    "\n",
    "                    test_loss += batch_loss.item()\n",
    "\n",
    "\n",
    "                    ps = torch.exp(logps)\n",
    "                    top_p, top_class = ps.topk(1, dim=1)\n",
    "                    equals = top_class == labels.view(*top_class.shape)\n",
    "                    accuracy += torch.mean(equals.type(torch.FloatTensor)).item()\n",
    "\n",
    "                print(f\"Epoch {epoch+1}/{epochs}.. \"\n",
    "                      f\"Train loss: {running_loss/print_every:.3f}.. \"\n",
    "                      f\"Validation loss: {test_loss/len(validloader):.3f}.. \"\n",
    "                      f\"Validation accuracy: {accuracy/len(validloader):.3f}\")\n",
    "                running_loss = 0\n",
    "                model.train()\n"
   ]
  },
  {
   "cell_type": "code",
   "execution_count": null,
   "id": "f52064f0",
   "metadata": {},
   "outputs": [],
   "source": []
  }
 ],
 "metadata": {
  "kernelspec": {
   "display_name": "Python 3 (ipykernel)",
   "language": "python",
   "name": "python3"
  },
  "language_info": {
   "codemirror_mode": {
    "name": "ipython",
    "version": 3
   },
   "file_extension": ".py",
   "mimetype": "text/x-python",
   "name": "python",
   "nbconvert_exporter": "python",
   "pygments_lexer": "ipython3",
   "version": "3.9.13"
  }
 },
 "nbformat": 4,
 "nbformat_minor": 5
}
